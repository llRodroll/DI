{
  "nbformat": 4,
  "nbformat_minor": 0,
  "metadata": {
    "colab": {
      "name": "00-.- Basics of MD.ipynb",
      "provenance": [],
      "toc_visible": true,
      "authorship_tag": "ABX9TyMyWGM/IdnbUDiR6AzUhtWA",
      "include_colab_link": true
    },
    "kernelspec": {
      "name": "python3",
      "display_name": "Python 3"
    },
    "language_info": {
      "name": "python"
    }
  },
  "cells": [
    {
      "cell_type": "markdown",
      "metadata": {
        "id": "view-in-github",
        "colab_type": "text"
      },
      "source": [
        "<a href=\"https://colab.research.google.com/github/llRodroll/DI/blob/master/00_Basics_of_MD.ipynb\" target=\"_parent\"><img src=\"https://colab.research.google.com/assets/colab-badge.svg\" alt=\"Open In Colab\"/></a>"
      ]
    },
    {
      "cell_type": "markdown",
      "source": [
        "So... this is Google Colab.\n",
        "There is a lot to explain, but don't worry we are going step-by-step.\n",
        "\n",
        "To start, we have two key options: +Text and +Code.\n",
        "\n",
        "**+Text**: adds a text box, were we can write whatever we want, using Markdown notation. In the right part of the secreen you can see the \"published\" version of the text box.\n",
        "\n",
        "A few examples are:\n",
        "\n",
        "```markdown\n",
        "# Head level 1 (or main)\n",
        "## Head level 2 (i.e. sub section)\n",
        "### Head level 3\n",
        "```\n",
        "\n",
        "# Head level 1 (or main)\n",
        "## Head level 2 (i.e. sub section)\n",
        "### Head level 3\n",
        "\n",
        "Now, see that in Table of Contents the only thing shown is Head level 1.\n",
        "If we want that the ToC show all Heads we need to add a text box for each one of them."
      ],
      "metadata": {
        "id": "t79fSJGSdxgm"
      }
    },
    {
      "cell_type": "markdown",
      "source": [
        "## Subsection (head level 2)\n",
        "\n",
        "Now, ToC is showing the subsection.\n",
        "Also, note that Head level 1 and Subsection have a little arrow on the left.\n",
        "If we click on it, Colab hides/shows its contents.\n",
        "\n",
        "Now let's see a few other feautures of Markdown,with proper \"sectioning\".\n"
      ],
      "metadata": {
        "id": "gcJqgeX_jX3r"
      }
    },
    {
      "cell_type": "markdown",
      "source": [
        "# **Text Formating**"
      ],
      "metadata": {
        "id": "-6Di4-MNnauc"
      }
    },
    {
      "cell_type": "markdown",
      "source": [
        "## Bold\n",
        "\n",
        "By using `**` at the begining and the end we can add bold to any text:\n",
        "\n",
        "`**Name**` = **Name**"
      ],
      "metadata": {
        "id": "H4eETxb6oCnX"
      }
    },
    {
      "cell_type": "markdown",
      "source": [
        "## Italics\n",
        "\n",
        "For italic format, we only need a single `*`:\n",
        "\n",
        "`*Number*`= *Number*\n",
        "\n",
        "Somewhat interesting if we use `_`also:\n",
        "\n",
        "`_Number_`= _Number_"
      ],
      "metadata": {
        "id": "1zlLxo6RowUb"
      }
    },
    {
      "cell_type": "markdown",
      "source": [
        "## Underline\n",
        "\n",
        "Given the format structure of Markdown, texts cannot be underlined. That is because the underline is reserved for **links**."
      ],
      "metadata": {
        "id": "D84HkQt5pcH9"
      }
    },
    {
      "cell_type": "markdown",
      "source": [
        "## Combination\n",
        "\n",
        "You can applied both allowed formats to text:\n",
        "\n",
        "`***This text has Bold and Italics***` = ***This text has Bold and Italics*** "
      ],
      "metadata": {
        "id": "KpXivvMQrHO_"
      }
    },
    {
      "cell_type": "markdown",
      "source": [
        "# **Lists**"
      ],
      "metadata": {
        "id": "ERIgUXDHr556"
      }
    },
    {
      "cell_type": "markdown",
      "source": [
        "## Unordered list\n",
        "\n",
        "As the name says, it is a list where the items are not in a particular order. And to create it we use a single `*` followed by `space` at the beging of each item.\n",
        "\n",
        "For example:\n",
        "\n",
        "**List of hobbies:**\n",
        "\n",
        "```markdown\n",
        "* Read\n",
        "* Wachting TV\n",
        "* Movies\n",
        "```\n",
        "... equals to\n",
        "\n",
        "* Read\n",
        "* Wachting TV\n",
        "* Movies\n"
      ],
      "metadata": {
        "id": "8VT9Da_0sDYO"
      }
    },
    {
      "cell_type": "markdown",
      "source": [
        "## Ordered List\n",
        "\n",
        "Similar to the previous case, only this time we use numbers like `1.`, `2.`, `3.` and so on.\n",
        "\n",
        "Example:\n",
        "\n",
        "**Order of meals in the day:**\n",
        "\n",
        "```markdown\n",
        "1. Breakfast\n",
        "2. Lunch\n",
        "3. Dinner\n",
        "```\n",
        "... equals to\n",
        "\n",
        "1. Breakfast\n",
        "2. Lunch\n",
        "3. Dinner"
      ],
      "metadata": {
        "id": "mP7QYdrCtYng"
      }
    },
    {
      "cell_type": "markdown",
      "source": [
        "## Nested Lists\n",
        "\n",
        "A nested list is one with subitems. For ordered or unordered we need to indent with 4 `spaces`.\n",
        "\n",
        "Example:\n",
        "\n",
        "**Information:**\n",
        "\n",
        "```markdown\n",
        "1. Identification\n",
        "    \n",
        "    1.1. Name\n",
        "\n",
        "    1.2. ID Number\n",
        "2. Education\n",
        "\n",
        "    2.1. College\n",
        "\n",
        "    2.2. University\n",
        "```\n",
        "... equals to\n",
        "\n",
        "1. Identification\n",
        "    \n",
        "    1.1. Name\n",
        "\n",
        "    1.2. ID Number\n",
        "2. Education\n",
        "\n",
        "    2.1. College\n",
        "\n",
        "    2.2. University\n"
      ],
      "metadata": {
        "id": "5S6vYetkx6Op"
      }
    },
    {
      "cell_type": "markdown",
      "source": [
        "# **Inserts**"
      ],
      "metadata": {
        "id": "hKz42cJPji5i"
      }
    },
    {
      "cell_type": "markdown",
      "source": [
        "## Links\n",
        "\n",
        "You can insert links to connect to external resources.\n",
        "\n",
        "With this syntaxis`[link text](https://)`, where `[link text]` is the \"name\" you want to put for your link and in `( )` you put the corresponding url. Just keep in mind that for webpages you need the `https://` bit. \n",
        "\n",
        "For example\n",
        "\n",
        "`[La Salle](https://www.lasalle.edu.co/)` = [La Salle](https://www.lasalle.edu.co/)"
      ],
      "metadata": {
        "id": "N24aImMRCljR"
      }
    },
    {
      "cell_type": "markdown",
      "source": [
        "## Image\n",
        "\n",
        "In the case of images you have several options: from the web, from Drive or from your computer. Let's see.\n",
        "\n",
        "### From Web\n",
        "\n",
        "This option is great given that you do not need to dowload and save anything. Just input the image URL and done. An example:\n",
        "\n",
        "`![image info](https://scikit-learn.org/stable/_static/ml_map.png)` gets\n",
        "\n",
        "![image info](https://scikit-learn.org/stable/_static/ml_map.png)\n",
        "\n",
        "A downside is that sometime URL are too long and can make your code look awful and confusing. Example: search La Salle, go to Images, select one, right click on it and choose Copy image adress.\n",
        "\n",
        "### From your Computer\n",
        "\n",
        "In this case, just download any image to your computer then upload using, the context menu.\n",
        "\n",
        "A final consideration is that maybe you want to adjust the size of the image. To do so, we use HTML but at this level is easier to adjust the image in your pc and then uploading it.\n"
      ],
      "metadata": {
        "id": "YaS6g3-Wju3-"
      }
    },
    {
      "cell_type": "markdown",
      "source": [
        "# **Tables**"
      ],
      "metadata": {
        "id": "WHy9GcERuCHe"
      }
    },
    {
      "cell_type": "markdown",
      "source": [
        "## Simple Table\n",
        "\n",
        "It is very tedious to create a table using Markdown. If you have the need to present large or complex data in table form there are better ways.\n",
        "\n",
        "Nevertheless, ocassionally it is useful to create a simple table in the text box. For example:\n",
        "\n",
        "```markdown\n",
        "| a | b | c |\n",
        "|---|---|---|\n",
        "| 1 | 2 | 3 |\n",
        "| 4 | 5 | 6 |\n",
        "```\n",
        "generates:\n",
        "\n",
        "| a | b | c |\n",
        "|---|---|---|\n",
        "| 1 | 2 | 3 |\n",
        "| 4 | 5 | 6 |\n"
      ],
      "metadata": {
        "id": "gs77-8gpuIiX"
      }
    },
    {
      "cell_type": "markdown",
      "source": [
        "# **Equations**"
      ],
      "metadata": {
        "id": "2m5n5CRoyZ3H"
      }
    },
    {
      "cell_type": "markdown",
      "source": [
        "## In Line\n",
        "\n",
        "In you want to put an equation *in-line*, i.e. in the same line you are typing, you just need to add `$` at the beging and at the end of the expression. Let's see:\n",
        "\n",
        "```markdown\n",
        "This is the Pytagoras Theorem: $a^2 + b^2 = c^2$\n",
        "```\n",
        "\n",
        "This is the Pytagoras Theorem: $a^2 + b^2 = c^2$\n",
        "\n",
        "The expression between the `$`'s uses LaTeX notation. But do not worry if you really need it I will guide you.\n"
      ],
      "metadata": {
        "id": "J-ThNvzMyeyV"
      }
    },
    {
      "cell_type": "markdown",
      "source": [
        "## \"Big Equation\"\n",
        "\n",
        "Sometimes you want your equation to be \"alone\", not *in-line*. Simple just use the `$` and done.\n",
        "\n",
        "Example:\n",
        "```markdown\n",
        "$A_{m,n} =\n",
        " \\begin{pmatrix}\n",
        "  a_{1,1} & a_{1,2} & \\cdots & a_{1,n} \\\\\n",
        "  a_{2,1} & a_{2,2} & \\cdots & a_{2,n} \\\\\n",
        "  \\vdots  & \\vdots  & \\ddots & \\vdots  \\\\\n",
        "  a_{m,1} & a_{m,2} & \\cdots & a_{m,n}\n",
        " \\end{pmatrix}$\n",
        "```\n",
        "\n",
        "$A_{m,n} =\n",
        " \\begin{pmatrix}\n",
        "  a_{1,1} & a_{1,2} & \\cdots & a_{1,n} \\\\\n",
        "  a_{2,1} & a_{2,2} & \\cdots & a_{2,n} \\\\\n",
        "  \\vdots  & \\vdots  & \\ddots & \\vdots  \\\\\n",
        "  a_{m,1} & a_{m,2} & \\cdots & a_{m,n}\n",
        " \\end{pmatrix}$\n",
        "\n",
        "Sometimes, people use the notation\n",
        "\n",
        "```markdown\n",
        "\\begin{equation}\n",
        "\\end{equation}\n",
        "```\n",
        "\n",
        "for more control. But again, do not worry. If we ever need this again I will explain more in depth."
      ],
      "metadata": {
        "id": "d8dSebK7zfSY"
      }
    }
  ]
}